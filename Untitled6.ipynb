{
  "nbformat": 4,
  "nbformat_minor": 0,
  "metadata": {
    "colab": {
      "name": "Untitled6.ipynb",
      "provenance": [],
      "collapsed_sections": [],
      "authorship_tag": "ABX9TyPFFpOdhvpS1tVmZB0+zcIo",
      "include_colab_link": true
    },
    "kernelspec": {
      "name": "python3",
      "display_name": "Python 3"
    }
  },
  "cells": [
    {
      "cell_type": "markdown",
      "metadata": {
        "id": "view-in-github",
        "colab_type": "text"
      },
      "source": [
        "<a href=\"https://colab.research.google.com/github/dhanvanthboppana/testgit/blob/master/Untitled6.ipynb\" target=\"_parent\"><img src=\"https://colab.research.google.com/assets/colab-badge.svg\" alt=\"Open In Colab\"/></a>"
      ]
    },
    {
      "cell_type": "code",
      "metadata": {
        "id": "NzWZq3Vewcv1",
        "colab_type": "code",
        "colab": {}
      },
      "source": [
        "import re\n",
        "import pandas as pd\n",
        "import bs4\n",
        "import requests\n",
        "import spacy\n",
        "from spacy import displacy\n",
        "nlp = spacy.load('en_core_web_sm')\n",
        "\n",
        "from spacy.matcher import Matcher \n",
        "from spacy.tokens import Span \n",
        "\n",
        "import networkx as nx\n",
        "\n",
        "import matplotlib.pyplot as plt\n",
        "from tqdm import tqdm\n",
        "\n",
        "pd.set_option('display.max_colwidth', 200)\n",
        "%matplotlib inline"
      ],
      "execution_count": 48,
      "outputs": []
    },
    {
      "cell_type": "code",
      "metadata": {
        "id": "u0S7gektwp2a",
        "colab_type": "code",
        "colab": {
          "base_uri": "https://localhost:8080/",
          "height": 34
        },
        "outputId": "4c696798-f53d-4a74-b20c-4370bb63b5b2"
      },
      "source": [
        "candidate_sentences = pd.read_csv(\"wiki_sentences_v2.csv\")\n",
        "candidate_sentences.shape"
      ],
      "execution_count": 49,
      "outputs": [
        {
          "output_type": "execute_result",
          "data": {
            "text/plain": [
              "(4318, 1)"
            ]
          },
          "metadata": {
            "tags": []
          },
          "execution_count": 49
        }
      ]
    },
    {
      "cell_type": "code",
      "metadata": {
        "id": "Oj8KwrE3wySV",
        "colab_type": "code",
        "colab": {}
      },
      "source": [
        "def get_entities(sent):\n",
        "  ## chunk 1\n",
        "  ent1 = \"\"\n",
        "  ent2 = \"\"\n",
        "\n",
        "  prv_tok_dep = \"\"    # dependency tag of previous token in the sentence\n",
        "  prv_tok_text = \"\"   # previous token in the sentence\n",
        "\n",
        "  prefix = \"\"\n",
        "  modifier = \"\"\n",
        "\n",
        "  #############################################################\n",
        "  \n",
        "  for tok in nlp(sent):\n",
        "    ## chunk 2\n",
        "    # if token is a punctuation mark then move on to the next token\n",
        "    if tok.dep_ != \"punct\":\n",
        "      # check: token is a compound word or not\n",
        "      if tok.dep_ == \"compound\":\n",
        "        prefix = tok.text\n",
        "        # if the previous word was also a 'compound' then add the current word to it\n",
        "        if prv_tok_dep == \"compound\":\n",
        "          prefix = prv_tok_text + \" \"+ tok.text\n",
        "      \n",
        "      # check: token is a modifier or not\n",
        "      if tok.dep_.endswith(\"mod\") == True:\n",
        "        modifier = tok.text\n",
        "        # if the previous word was also a 'compound' then add the current word to it\n",
        "        if prv_tok_dep == \"compound\":\n",
        "          modifier = prv_tok_text + \" \"+ tok.text\n",
        "      \n",
        "      ## chunk 3\n",
        "      if tok.dep_.find(\"subj\") == True:\n",
        "        ent1 = modifier +\" \"+ prefix + \" \"+ tok.text\n",
        "        prefix = \"\"\n",
        "        modifier = \"\"\n",
        "        prv_tok_dep = \"\"\n",
        "        prv_tok_text = \"\"      \n",
        "\n",
        "      ## chunk 4\n",
        "      if tok.dep_.find(\"obj\") == True:\n",
        "        ent2 = modifier +\" \"+ prefix +\" \"+ tok.text\n",
        "        \n",
        "      ## chunk 5  \n",
        "      # update variables\n",
        "      prv_tok_dep = tok.dep_\n",
        "      prv_tok_text = tok.text\n",
        "  #############################################################\n",
        "\n",
        "  return [ent1.strip(), ent2.strip()]"
      ],
      "execution_count": 50,
      "outputs": []
    },
    {
      "cell_type": "code",
      "metadata": {
        "id": "F4YSDqdrw2Sw",
        "colab_type": "code",
        "colab": {}
      },
      "source": [
        "def get_relation(sent):\n",
        "\n",
        "  doc = nlp(sent)\n",
        "\n",
        "  # Matcher class object \n",
        "  matcher = Matcher(nlp.vocab)\n",
        "\n",
        "\n",
        "  #define the pattern \n",
        "  pattern = [{'DEP':'ROOT'}, \n",
        "            {'DEP':'prep','OP':\"?\"},\n",
        "            {'DEP':'agent','OP':\"?\"},  \n",
        "            {'POS':'ADJ','OP':\"?\"}] \n",
        "\n",
        "  matcher.add(\"matching_1\", None, pattern) \n",
        "\n",
        "  matches = matcher(doc)\n",
        "  k = len(matches) - 1\n",
        "\n",
        "  span = doc[matches[k][1]:matches[k][2]] \n",
        "\n",
        "  return(span.text)"
      ],
      "execution_count": 51,
      "outputs": []
    },
    {
      "cell_type": "code",
      "metadata": {
        "id": "PkhRXvm-w4oC",
        "colab_type": "code",
        "colab": {
          "base_uri": "https://localhost:8080/",
          "height": 34
        },
        "outputId": "fbeffb6e-154b-4d8e-c247-62ea99751e36"
      },
      "source": [
        "entity_pairs_people= []\n",
        "relations_people=[]\n",
        "p=set()\n",
        "for i in tqdm(candidate_sentences[\"sentence\"]):\n",
        "  doc=nlp(i)\n",
        "  c=0\n",
        "  for l in doc.ents:\n",
        "    if(l.label_ is 'PERSON'):\n",
        "      p.add(l.text.strip())\n",
        "      c=c+1\n",
        "  if(c>0):\n",
        "    entity_pairs_people.append(get_entities(i))\n",
        "    relations_people.append(get_relation(i))"
      ],
      "execution_count": 52,
      "outputs": [
        {
          "output_type": "stream",
          "text": [
            "100%|██████████| 4318/4318 [00:58<00:00, 73.48it/s]\n"
          ],
          "name": "stderr"
        }
      ]
    },
    {
      "cell_type": "code",
      "metadata": {
        "id": "BMG5nHhKxZKL",
        "colab_type": "code",
        "colab": {}
      },
      "source": [
        "source = [i[0] for i in entity_pairs_people]\n",
        "\n",
        "# extract object\n",
        "target = [i[1] for i in entity_pairs_people]\n",
        "\n",
        "kg_df_people = pd.DataFrame({'source':source, 'target':target, 'edge':relations_people})"
      ],
      "execution_count": 53,
      "outputs": []
    },
    {
      "cell_type": "code",
      "metadata": {
        "id": "GnbvFDdhxydf",
        "colab_type": "code",
        "colab": {}
      },
      "source": [
        "G_people=nx.from_pandas_edgelist(kg_df_people, \"source\", \"target\", \n",
        "                          edge_attr=True, create_using=nx.MultiGraph())"
      ],
      "execution_count": 76,
      "outputs": []
    },
    {
      "cell_type": "code",
      "metadata": {
        "id": "ejweqa9NyEvJ",
        "colab_type": "code",
        "colab": {}
      },
      "source": [
        "dp=nx.closeness_centrality(G_people)"
      ],
      "execution_count": 77,
      "outputs": []
    },
    {
      "cell_type": "code",
      "metadata": {
        "id": "YKwCZsplyMMB",
        "colab_type": "code",
        "colab": {}
      },
      "source": [
        "dpe=dp.copy()\n",
        "for i in dp.items():\n",
        "  if(i[0] not in p):\n",
        "    del dpe[i[0]]"
      ],
      "execution_count": 78,
      "outputs": []
    },
    {
      "cell_type": "code",
      "metadata": {
        "id": "iGz2f1x6y7zm",
        "colab_type": "code",
        "colab": {
          "base_uri": "https://localhost:8080/",
          "height": 193
        },
        "outputId": "cf8673e9-9c5f-48c2-905e-1e7bc218cee6"
      },
      "source": [
        "sdpe=sorted(dpe.items(), key=lambda x:x[1], reverse=True)\n",
        "c=0\n",
        "for i in sdpe:\n",
        "  print(i[0])\n",
        "  c=c+1\n",
        "  if(c==10):\n",
        "    break"
      ],
      "execution_count": 79,
      "outputs": [
        {
          "output_type": "stream",
          "text": [
            "boris karloff\n",
            "brad pitt\n",
            "david heyman\n",
            "aneurin barnard\n",
            "michael johnston\n",
            "chang chen\n",
            "brian levant\n",
            "amy nicholson\n",
            "alex garland\n",
            "vikram krishna\n"
          ],
          "name": "stdout"
        }
      ]
    },
    {
      "cell_type": "code",
      "metadata": {
        "id": "TJO1jR4IzIK7",
        "colab_type": "code",
        "colab": {
          "base_uri": "https://localhost:8080/",
          "height": 34
        },
        "outputId": "c11b6bbc-97a3-4707-80bc-8f2485483e52"
      },
      "source": [
        "entity_pairs_loc= []\n",
        "relations_loc=[]\n",
        "loc=set()\n",
        "for i in tqdm(candidate_sentences[\"sentence\"]):\n",
        "  doc=nlp(i)\n",
        "  c=0\n",
        "  for l in doc.ents:\n",
        "    if(l.label_ is 'GPE'):\n",
        "      loc.add(l.text.strip())\n",
        "      c=c+1\n",
        "  if(c>0):\n",
        "    entity_pairs_loc.append(get_entities(i))\n",
        "    relations_loc.append(get_relation(i))"
      ],
      "execution_count": 80,
      "outputs": [
        {
          "output_type": "stream",
          "text": [
            "100%|██████████| 4318/4318 [00:45<00:00, 95.57it/s] \n"
          ],
          "name": "stderr"
        }
      ]
    },
    {
      "cell_type": "code",
      "metadata": {
        "id": "CkOmnshtzbsC",
        "colab_type": "code",
        "colab": {}
      },
      "source": [
        "source = [i[0] for i in entity_pairs_loc]\n",
        "\n",
        "# extract object\n",
        "target = [i[1] for i in entity_pairs_loc]\n",
        "\n",
        "kg_df_loc = pd.DataFrame({'source':source, 'target':target, 'edge':relations_loc})"
      ],
      "execution_count": 81,
      "outputs": []
    },
    {
      "cell_type": "code",
      "metadata": {
        "id": "H8lG-zgDzVZl",
        "colab_type": "code",
        "colab": {}
      },
      "source": [
        "G_loc=nx.from_pandas_edgelist(kg_df_loc, \"source\", \"target\", \n",
        "                          edge_attr=True, create_using=nx.MultiGraph())"
      ],
      "execution_count": 82,
      "outputs": []
    },
    {
      "cell_type": "code",
      "metadata": {
        "id": "riPTNxP-zikj",
        "colab_type": "code",
        "colab": {}
      },
      "source": [
        "dl=nx.closeness_centrality(G_loc)"
      ],
      "execution_count": 83,
      "outputs": []
    },
    {
      "cell_type": "code",
      "metadata": {
        "id": "Uu-Pri6dzjLk",
        "colab_type": "code",
        "colab": {}
      },
      "source": [
        "dle=dl.copy()\n",
        "for i in dl.items():\n",
        "  if(i[0] not in loc):\n",
        "    del dle[i[0]]\n"
      ],
      "execution_count": 84,
      "outputs": []
    },
    {
      "cell_type": "code",
      "metadata": {
        "id": "_uMgpjN80HIQ",
        "colab_type": "code",
        "colab": {
          "base_uri": "https://localhost:8080/",
          "height": 193
        },
        "outputId": "a0db717a-98b9-4808-aa3e-90f915612f2c"
      },
      "source": [
        "sdle=sorted(dle.items(), key=lambda x:x[1], reverse=True)\n",
        "c=0\n",
        "for i in sdle:\n",
        "  print(i[0])\n",
        "  c=c+1\n",
        "  if(c==10):\n",
        "    break"
      ],
      "execution_count": 85,
      "outputs": [
        {
          "output_type": "stream",
          "text": [
            "hyderabad\n",
            "samoa\n",
            "cyprus\n",
            "toronto\n",
            "prague\n",
            "hollywood\n",
            "washington\n",
            "mumbai\n",
            "china\n",
            "india\n"
          ],
          "name": "stdout"
        }
      ]
    },
    {
      "cell_type": "code",
      "metadata": {
        "id": "Fnx9NsZI09nh",
        "colab_type": "code",
        "colab": {}
      },
      "source": [
        ""
      ],
      "execution_count": 45,
      "outputs": []
    }
  ]
}